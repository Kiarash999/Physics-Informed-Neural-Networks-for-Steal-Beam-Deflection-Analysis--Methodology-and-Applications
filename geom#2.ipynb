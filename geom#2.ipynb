{
 "cells": [
  {
   "cell_type": "markdown",
   "id": "78a45051",
   "metadata": {},
   "source": [
    "# geom #2"
   ]
  },
  {
   "cell_type": "code",
   "execution_count": null,
   "id": "36c97005",
   "metadata": {},
   "outputs": [],
   "source": [
    "import deepxde as dde\n",
    "import numpy as np\n",
    "import matplotlib.pyplot as plt"
   ]
  },
  {
   "cell_type": "code",
   "execution_count": null,
   "id": "4d14f1d6",
   "metadata": {},
   "outputs": [],
   "source": [
    "L = 1;   E = 200e9;   I = 1e-6;   q = 10000.0;   c = q / (E * I)\n",
    "geom2 = dde.geometry.Interval(0, L)"
   ]
  },
  {
   "cell_type": "code",
   "execution_count": null,
   "id": "cf2fa56c",
   "metadata": {},
   "outputs": [],
   "source": [
    "def ode2(x, y):\n",
    "    dy_xx = dde.grad.hessian(y, x)\n",
    "    dy_xxxx = dde.grad.hessian(dy_xx, x)\n",
    "    return dy_xxxx + c\n",
    "\n",
    "def solution(x):\n",
    "    return (-q / (24 * E * I)) * (x**4 - 2 * L * x**3 + L**2 * x**2)"
   ]
  },
  {
   "cell_type": "code",
   "execution_count": null,
   "id": "fd6ebad5",
   "metadata": {},
   "outputs": [],
   "source": [
    "def boundary_l(x, on_boundary):\n",
    "    return on_boundary and dde.utils.isclose(x[0], 0)\n",
    "\n",
    "def boundary_r(x, on_boundary):\n",
    "    return on_boundary and dde.utils.isclose(x[0], L)\n",
    "\n",
    "bcD_l = dde.icbc.DirichletBC(geom2, lambda x: 0, boundary_l)\n",
    "bcN_l = dde.icbc.NeumannBC(geom2, lambda x: 0, boundary_l)\n",
    "\n",
    "bcD_r = dde.icbc.DirichletBC(geom2, lambda x: 0, boundary_r)\n",
    "bcN_r = dde.icbc.NeumannBC(geom2, lambda x: 0, boundary_r)\n",
    "\n",
    "bcs2 = [bcD_l, bcN_l, bcD_r, bcN_r]"
   ]
  },
  {
   "cell_type": "code",
   "execution_count": null,
   "id": "9229bcfb",
   "metadata": {},
   "outputs": [],
   "source": [
    "data2 = dde.data.PDE(geom2, ode2, bcs2, num_domain=100, num_boundary=50, solution=solution)"
   ]
  },
  {
   "cell_type": "code",
   "execution_count": null,
   "id": "9b76da0e",
   "metadata": {},
   "outputs": [],
   "source": [
    "net2 = dde.nn.FNN([1, 50, 50, 50, 1], \"swish\", \"Glorot uniform\")\n",
    "model2 = dde.Model(data2, net2)\n",
    "model2.compile(\"adam\", lr=1e-4, metrics=['l2 relative error'], loss_weights=[1, 10, 10, 10, 10])\n",
    "model2.train(iterations=30000, display_every=1000)\n",
    "model2.compile(\"L-BFGS\", loss_weights=[1, 10, 10, 10, 10])\n",
    "model2.train()"
   ]
  },
  {
   "cell_type": "code",
   "execution_count": null,
   "id": "d0dd6f65",
   "metadata": {},
   "outputs": [],
   "source": [
    "X2 = np.linspace(0, L, 200)[:, None]\n",
    "y_pred2 = model2.predict(X2)\n",
    "w_analytical2 = solution(X2)\n",
    "\n",
    "\n",
    "plt.figure(figsize=(10, 6))\n",
    "plt.plot(X2, y_pred2, label=\"PINN Prediction\", color=\"red\", linestyle=\"--\")\n",
    "plt.plot(X2, w_analytical2, label=\"Exact Solution\", color=\"blue\")\n",
    "plt.xlabel(\"x\")\n",
    "plt.ylabel(\"w(x)\")\n",
    "plt.title(\"PINN vs Analytical: Deflection of Fully Restrained Beam Under Uniform Load\")\n",
    "plt.legend()\n",
    "plt.grid()\n",
    "plt.show()"
   ]
  },
  {
   "cell_type": "code",
   "execution_count": null,
   "id": "f702efe3",
   "metadata": {},
   "outputs": [],
   "source": []
  },
  {
   "cell_type": "code",
   "execution_count": null,
   "id": "ba0b6b95",
   "metadata": {},
   "outputs": [],
   "source": [
    "# import deepxde as dde\n",
    "# import numpy as np\n",
    "# import tensorflow as tf"
   ]
  },
  {
   "cell_type": "code",
   "execution_count": null,
   "id": "4e12384a",
   "metadata": {},
   "outputs": [],
   "source": [
    "# # Physical constants\n",
    "# L = 1.0  # Length of the beam\n",
    "# E = 210e9  # Young's modulus (Pa)\n",
    "# I = 1e-6  # Moment of inertia (m^4)\n",
    "# P = 1000.0  # Point load (N)\n",
    "# epsilon = L / 100.0  # Spread of the Gaussian approximation\n",
    "# geom = dde.geometry.Interval(0.0, L)"
   ]
  },
  {
   "cell_type": "code",
   "execution_count": null,
   "id": "bd119f5a",
   "metadata": {},
   "outputs": [],
   "source": [
    "# def delta(x, center=L/2):\n",
    "#     \"\"\"Gaussian approximation of Dirac delta centered at L/2.\"\"\"\n",
    "#     return 1.0 / (epsilon * np.sqrt(np.pi)) * np.exp(-((x - center) ** 2) / (epsilon ** 2))"
   ]
  },
  {
   "cell_type": "code",
   "execution_count": null,
   "id": "51035837",
   "metadata": {},
   "outputs": [],
   "source": [
    "# def pde(x, w):\n",
    "#     # First derivative dw/dx\n",
    "#     w_x = dde.grad.jacobian(w, x)\n",
    "#     # Second derivative d2w/dx2\n",
    "#     w_xx = dde.grad.hessian(w, x)\n",
    "#     # Third derivative d3w/dx3\n",
    "#     w_xxx = dde.grad.jacobian(w_xx, x)\n",
    "#     # Fourth derivative d4w/dx4\n",
    "#     w_xxxx = dde.grad.jacobian(w_xxx, x)\n",
    "#     # Gaussian delta term (TensorFlow)\n",
    "#     delta_tf = tf.exp(-((x - L/2) ** 2) / (epsilon ** 2)) / (epsilon * tf.sqrt(np.pi))\n",
    "#     return E * I * w_xxxx + P * delta_tf"
   ]
  },
  {
   "cell_type": "code",
   "execution_count": null,
   "id": "56e6260f",
   "metadata": {},
   "outputs": [],
   "source": [
    "# bc_w0 = dde.DirichletBC(geom, lambda x: 0.0, lambda x, on_boundary: on_boundary and np.isclose(x[0], 0.0))\n",
    "# bc_dw0 = dde.NeumannBC(geom, lambda x: 0.0, lambda x, on_boundary: on_boundary and np.isclose(x[0], 0.0))\n",
    "# # w(L) = 0 and w'(L) = 0 at x=L\n",
    "# bc_wL = dde.DirichletBC(geom, lambda x: 0.0, lambda x, on_boundary: on_boundary and np.isclose(x[0], L))\n",
    "# bc_dwL = dde.NeumannBC(geom, lambda x: 0.0, lambda x, on_boundary: on_boundary and np.isclose(x[0], L))"
   ]
  },
  {
   "cell_type": "code",
   "execution_count": null,
   "id": "3dd471be",
   "metadata": {},
   "outputs": [],
   "source": [
    "# data = dde.data.PDE(geom, pde, [bc_w0, bc_dw0, bc_wL, bc_dwL], num_domain=200, num_boundary=100)"
   ]
  },
  {
   "cell_type": "code",
   "execution_count": null,
   "id": "647dd8fa",
   "metadata": {},
   "outputs": [],
   "source": [
    "# layer_size = [1] + [50] * 3 + [1]\n",
    "# activation = 'tanh'\n",
    "# initializer = 'Glorot uniform'\n",
    "# net = dde.maps.FNN(layer_size, activation, initializer)\n",
    "\n",
    "# model = dde.Model(data, net)\n",
    "# model.compile('adam', lr=1e-3)\n",
    "# history = model.train(epochs=5000)\n",
    "# model.compile('L-BFGS')\n",
    "# history = model.train()"
   ]
  },
  {
   "cell_type": "code",
   "execution_count": null,
   "id": "926fcbe2",
   "metadata": {},
   "outputs": [],
   "source": [
    "# def analytic_w(x):\n",
    "#     x = x[:, 0]\n",
    "#     w = np.zeros_like(x)\n",
    "#     C = P / (48 * E * I)\n",
    "#     for i, xi in enumerate(x):\n",
    "#         if xi <= L / 2:\n",
    "#             w[i] = C * (3 * L * xi**2 - 4 * xi**3)\n",
    "#         else:\n",
    "#             w[i] = C * (3 * L * xi**2 - 4 * xi**3 + L**3 - 6 * L**2 * (xi - L / 2))\n",
    "#     return w.reshape(-1, 1)\n",
    "\n",
    "# X = np.linspace(0, L, 100)[:, None]\n",
    "# w_pred = model.predict(X)\n",
    "# w_true = analytic_w(X)\n",
    "\n",
    "# print(\"Predicted max deflection:\", np.min(w_pred))\n",
    "# print(\"Analytical max deflection:\", np.min(w_true))"
   ]
  },
  {
   "cell_type": "code",
   "execution_count": null,
   "id": "80ed88aa",
   "metadata": {},
   "outputs": [],
   "source": []
  }
 ],
 "metadata": {
  "kernelspec": {
   "display_name": "CMIenv",
   "language": "python",
   "name": "python3"
  },
  "language_info": {
   "codemirror_mode": {
    "name": "ipython",
    "version": 3
   },
   "file_extension": ".py",
   "mimetype": "text/x-python",
   "name": "python",
   "nbconvert_exporter": "python",
   "pygments_lexer": "ipython3",
   "version": "3.10.15"
  }
 },
 "nbformat": 4,
 "nbformat_minor": 5
}
