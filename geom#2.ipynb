{
 "cells": [
  {
   "cell_type": "markdown",
   "id": "78a45051",
   "metadata": {},
   "source": [
    "# geom #2\n",
    "Fully Restrained Beam"
   ]
  },
  {
   "cell_type": "code",
   "execution_count": null,
   "id": "36c97005",
   "metadata": {},
   "outputs": [],
   "source": [
    "import deepxde as dde\n",
    "import numpy as np\n",
    "import matplotlib.pyplot as plt"
   ]
  },
  {
   "cell_type": "code",
   "execution_count": null,
   "id": "4d14f1d6",
   "metadata": {},
   "outputs": [],
   "source": [
    "L = 1;   E = 200e9;   I = 1e-6;   q = 10000.0;   c = q / (E * I)\n",
    "geom2 = dde.geometry.Interval(0, L)"
   ]
  },
  {
   "cell_type": "code",
   "execution_count": null,
   "id": "cf2fa56c",
   "metadata": {},
   "outputs": [],
   "source": [
    "def ode2(x, y):\n",
    "    dy_xx = dde.grad.hessian(y, x)\n",
    "    dy_xxxx = dde.grad.hessian(dy_xx, x)\n",
    "    return dy_xxxx + c\n",
    "\n",
    "def solution(x):\n",
    "    return (-q / (24 * E * I)) * (x**4 - 2 * L * x**3 + L**2 * x**2)"
   ]
  },
  {
   "cell_type": "code",
   "execution_count": null,
   "id": "fd6ebad5",
   "metadata": {},
   "outputs": [],
   "source": [
    "def boundary_l(x, on_boundary):\n",
    "    return on_boundary and dde.utils.isclose(x[0], 0)\n",
    "\n",
    "def boundary_r(x, on_boundary):\n",
    "    return on_boundary and dde.utils.isclose(x[0], L)\n",
    "\n",
    "bcD_l = dde.icbc.DirichletBC(geom2, lambda x: 0, boundary_l)\n",
    "bcN_l = dde.icbc.NeumannBC(geom2, lambda x: 0, boundary_l)\n",
    "\n",
    "bcD_r = dde.icbc.DirichletBC(geom2, lambda x: 0, boundary_r)\n",
    "bcN_r = dde.icbc.NeumannBC(geom2, lambda x: 0, boundary_r)\n",
    "\n",
    "bcs2 = [bcD_l, bcN_l, bcD_r, bcN_r]"
   ]
  },
  {
   "cell_type": "code",
   "execution_count": null,
   "id": "9229bcfb",
   "metadata": {},
   "outputs": [],
   "source": [
    "data2 = dde.data.PDE(geom2, ode2, bcs2, num_domain=100, num_boundary=50, solution=solution)"
   ]
  },
  {
   "cell_type": "code",
   "execution_count": null,
   "id": "9b76da0e",
   "metadata": {},
   "outputs": [],
   "source": [
    "lw = [1, 1, 1, 1, 1]\n",
    "net2 = dde.nn.FNN([1, 50, 50, 50, 1], \"swish\", \"Glorot uniform\")\n",
    "model2 = dde.Model(data2, net2)\n",
    "model2.compile(\"adam\", lr=1e-4, metrics=['l2 relative error'], loss_weights=lw)\n",
    "model2.train(iterations=10000, display_every=1000)\n",
    "model2.compile(\"L-BFGS\", loss_weights=lw)\n",
    "model2.train()"
   ]
  },
  {
   "cell_type": "code",
   "execution_count": null,
   "id": "d0dd6f65",
   "metadata": {},
   "outputs": [],
   "source": [
    "X2 = np.linspace(0, L, 200)[:, None]\n",
    "y_pred2 = model2.predict(X2)\n",
    "w_analytical2 = solution(X2)\n",
    "\n",
    "\n",
    "plt.figure(figsize=(10, 6))\n",
    "plt.plot(X2, y_pred2, label=\"PINN Prediction\", color=\"red\", linestyle=\"--\")\n",
    "plt.plot(X2, w_analytical2, label=\"Exact Solution\", color=\"blue\")\n",
    "plt.xlabel(\"x\")\n",
    "plt.ylabel(\"w(x)\")\n",
    "plt.title(\"PINN vs Analytical: Deflection of Fully Restrained Beam Under Uniform Load\")\n",
    "plt.legend()\n",
    "plt.grid()\n",
    "plt.show()"
   ]
  },
  {
   "cell_type": "code",
   "execution_count": null,
   "id": "80ed88aa",
   "metadata": {},
   "outputs": [],
   "source": []
  }
 ],
 "metadata": {
  "kernelspec": {
   "display_name": "physdl",
   "language": "python",
   "name": "python3"
  },
  "language_info": {
   "codemirror_mode": {
    "name": "ipython",
    "version": 3
   },
   "file_extension": ".py",
   "mimetype": "text/x-python",
   "name": "python",
   "nbconvert_exporter": "python",
   "pygments_lexer": "ipython3",
   "version": "3.10.18"
  }
 },
 "nbformat": 4,
 "nbformat_minor": 5
}
