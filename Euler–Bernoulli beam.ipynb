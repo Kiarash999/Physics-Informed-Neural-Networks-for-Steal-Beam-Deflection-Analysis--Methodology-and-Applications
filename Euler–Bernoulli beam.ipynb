{
 "cells": [
  {
   "cell_type": "code",
   "execution_count": null,
   "id": "0ad57c0c",
   "metadata": {},
   "outputs": [],
   "source": [
    "from train import *\n",
    "dde.config.set_random_seed(1)"
   ]
  },
  {
   "cell_type": "markdown",
   "id": "4dd45734",
   "metadata": {},
   "source": [
    "# Cantilever Beam"
   ]
  },
  {
   "cell_type": "code",
   "execution_count": null,
   "id": "73a2e5c2",
   "metadata": {},
   "outputs": [],
   "source": [
    "layer_size = [1] + [30]*3 +[1]\n",
    "activation = \"swish\"\n",
    "initializer = \"Glorot uniform\"\n",
    "data = data = dde.data.PDE(geom, ode, bcs_c, 15, 2 , solution=analy_cb, num_test=100)\n",
    "net = dde.nn.FNN(layer_size, activation, initializer)\n",
    "model, history = solver(data, net, lr=1e-3,iter=6000)"
   ]
  },
  {
   "cell_type": "code",
   "execution_count": null,
   "id": "834979b7",
   "metadata": {},
   "outputs": [],
   "source": [
    "x_values = np.linspace(0, L, 100).reshape(-1, 1)\n",
    "\n",
    "y_pred = model.predict(x_values)\n",
    "y_exact = analy_cb(x_values)\n",
    "\n",
    "y_true = analy_frb_mspl(x_values.flatten())\n",
    "l2_error = np.linalg.norm(y_pred.flatten() - y_true, 2) / np.linalg.norm(y_true, 2)\n",
    "\n",
    "plt.figure(figsize=(10, 6))\n",
    "plt.plot(x_values, y_exact, label=\"Exact Solution\", color=\"blue\")\n",
    "plt.plot(x_values, y_pred, label=\"PINN Prediction\", color=\"red\", linestyle=\"--\")\n",
    "plt.xlabel(\"x\")\n",
    "plt.ylabel(\"u(x)\")\n",
    "plt.title(f\"PINN vs Analytical: Deflection of Cantilever Beam Under Uniform Load, L2 Relative Error: {l2_error:.2e}\")\n",
    "plt.legend()\n",
    "plt.grid()\n",
    "plt.show"
   ]
  },
  {
   "cell_type": "markdown",
   "id": "13442044",
   "metadata": {},
   "source": [
    "# Fully Restrained Beam"
   ]
  },
  {
   "cell_type": "code",
   "execution_count": null,
   "id": "e247908a",
   "metadata": {},
   "outputs": [],
   "source": [
    "layer_size = [1] + [50]*3 +[1]\n",
    "activation = \"swish\"\n",
    "initializer = \"Glorot uniform\"\n",
    "data = data = dde.data.PDE(geom, ode, bcs_fr, 100, 50 , solution=analy_frb, num_test=100)\n",
    "net = dde.nn.FNN(layer_size, activation, initializer)\n",
    "model, history = solver(data, net, lr=1e-3,iter=28000)"
   ]
  },
  {
   "cell_type": "code",
   "execution_count": null,
   "id": "a3a06fe8",
   "metadata": {},
   "outputs": [],
   "source": [
    "x_values = np.linspace(0, L, 100).reshape(-1, 1)\n",
    "\n",
    "y_pred = model.predict(x_values)\n",
    "w_analytical = analy_frb(x_values)\n",
    "\n",
    "y_true = analy_frb_mspl(x_values.flatten())\n",
    "l2_error = np.linalg.norm(y_pred.flatten() - y_true, 2) / np.linalg.norm(y_true, 2)\n",
    "\n",
    "plt.figure(figsize=(10, 6))\n",
    "plt.plot(x_values, y_pred, label=\"PINN Prediction\", color=\"red\", linestyle=\"--\")\n",
    "plt.plot(x_values, w_analytical, label=\"Exact Solution\", color=\"blue\")\n",
    "plt.xlabel(\"x\")\n",
    "plt.ylabel(\"w(x)\")\n",
    "plt.title(f\"PINN vs Analytical: Deflection of Fully Restrained Beam Under Uniform Load, L2 Relative Error: {l2_error:.2e}\")\n",
    "plt.legend()\n",
    "plt.grid()\n",
    "plt.show()"
   ]
  },
  {
   "cell_type": "markdown",
   "id": "61e09fec",
   "metadata": {},
   "source": [
    "# Fully Restrained Beam with Mid-Span Point Load"
   ]
  },
  {
   "cell_type": "code",
   "execution_count": null,
   "id": "0f294926",
   "metadata": {},
   "outputs": [],
   "source": [
    "layer_size = [1] + [50]*3 +[1]\n",
    "activation = \"swish\"\n",
    "initializer = \"Glorot uniform\"\n",
    "lw = [1e-14, 1, 1, 1 ,1]\n",
    "data = data = dde.data.PDE(geom, ode_mspl, bcs_fr, 50, 20 , solution=analy_frb_mspl, num_test=100)\n",
    "net = dde.nn.FNN(layer_size, activation, initializer)\n",
    "\n",
    "filepath = \"model_cb_mspl_frb/model.ckpt\"\n",
    "weight = CustomLossWeightCallback()\n",
    "best_model = dde.callbacks.ModelCheckpoint(filepath, verbose=0, save_better_only=True, period=1, monitor='train loss')\n",
    "\n",
    "\n",
    "model, history = solver(data, net, lr=1e-3,iter=60000, loss_weights=lw, callback=[weight, best_model])"
   ]
  },
  {
   "cell_type": "code",
   "execution_count": null,
   "id": "a45744c1",
   "metadata": {},
   "outputs": [],
   "source": [
    "x_values = np.linspace(0, L, 100).reshape(-1, 1)\n",
    "\n",
    "y_pred = model.predict(x_values)\n",
    "\n",
    "y_true = analy_frb_mspl(x_values.flatten())\n",
    "l2_error = np.linalg.norm(y_pred.flatten() - y_true, 2) / np.linalg.norm(y_true, 2)\n",
    "\n",
    "plt.figure(figsize=(8, 5))\n",
    "plt.plot(x_values, -y_pred, label=\"PINN prediction\")\n",
    "plt.plot(x_values, -y_true, \"--\", label=\"Analytical solution\")\n",
    "plt.xlabel(\"x\")\n",
    "plt.ylabel(\"Deflection w(x)\")\n",
    "plt.title(f\"Fully Restrained Beam Under Mid-Span Point Load, L2 Relative Error: {l2_error:.2e}\" )\n",
    "plt.legend()\n",
    "plt.grid(True)\n",
    "plt.tight_layout()\n",
    "plt.savefig(\"frb_mspl.png\", dpi=300)"
   ]
  },
  {
   "cell_type": "code",
   "execution_count": null,
   "id": "d6b7d9a1",
   "metadata": {},
   "outputs": [],
   "source": []
  }
 ],
 "metadata": {
  "kernelspec": {
   "display_name": "physdl",
   "language": "python",
   "name": "python3"
  },
  "language_info": {
   "codemirror_mode": {
    "name": "ipython",
    "version": 3
   },
   "file_extension": ".py",
   "mimetype": "text/x-python",
   "name": "python",
   "nbconvert_exporter": "python",
   "pygments_lexer": "ipython3",
   "version": "3.10.18"
  }
 },
 "nbformat": 4,
 "nbformat_minor": 5
}
