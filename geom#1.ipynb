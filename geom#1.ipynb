{
 "cells": [
  {
   "cell_type": "markdown",
   "id": "3a060d84",
   "metadata": {},
   "source": [
    "# geom #1\n",
    "Cantilever Beam"
   ]
  },
  {
   "cell_type": "code",
   "execution_count": null,
   "id": "d4fa3316",
   "metadata": {},
   "outputs": [],
   "source": [
    "import deepxde as dde\n",
    "import numpy as np\n",
    "import matplotlib.pyplot as plt"
   ]
  },
  {
   "cell_type": "code",
   "execution_count": null,
   "id": "9c14270d",
   "metadata": {},
   "outputs": [],
   "source": [
    "L = 1.0;   E = 200e9;   I = 1e-6;   q = 10000.0\n",
    "def analytical(x):\n",
    "    return - (q / (E * I)) * (x**4 / 24 - x**3 / 6 + x**2 / 4)"
   ]
  },
  {
   "cell_type": "code",
   "execution_count": null,
   "id": "a668b172",
   "metadata": {},
   "outputs": [],
   "source": [
    "geom = dde.geometry.Interval(0, L)"
   ]
  },
  {
   "cell_type": "code",
   "execution_count": null,
   "id": "935d57ce",
   "metadata": {},
   "outputs": [],
   "source": [
    "# ODE\n",
    "def pde(x ,y):\n",
    "    dy_xx = dde.grad.hessian(y, x)\n",
    "    dy_xxxx = dde.grad.hessian(dy_xx, x)\n",
    "    return dy_xxxx + (q / (E * I))"
   ]
  },
  {
   "cell_type": "code",
   "execution_count": null,
   "id": "360e374d",
   "metadata": {},
   "outputs": [],
   "source": [
    "# left\n",
    "def boundary_value_l(x):\n",
    "    return 0\n",
    "\n",
    "def boundary_l(x, on_boundary):\n",
    "    return on_boundary and dde.utils.isclose(x[0], 0)\n",
    "\n",
    "# right\n",
    "def ddy(x, y):\n",
    "    return dde.grad.hessian(y, x)\n",
    "\n",
    "def dddy(x, y):\n",
    "    return dde.grad.jacobian(ddy(x, y), x)\n",
    "\n",
    "def boundary_second_derivative(x, y, _):\n",
    "    return ddy(x, y)\n",
    "\n",
    "def boundary_third_derivative(x, y, _):\n",
    "    return dddy(x, y)\n",
    "\n",
    "def boundary_r(x, on_boundary):\n",
    "    return on_boundary and dde.utils.isclose(x[0], L)"
   ]
  },
  {
   "cell_type": "code",
   "execution_count": null,
   "id": "53461339",
   "metadata": {},
   "outputs": [],
   "source": [
    "bc_dbc = dde.icbc.DirichletBC(geom, boundary_value_l, boundary_l)\n",
    "bc_nbc = dde.icbc.NeumannBC(geom, boundary_value_l, boundary_l)\n",
    "\n",
    "bc_obc1 = dde.icbc.OperatorBC(geom, boundary_second_derivative, boundary_r)\n",
    "bc_obc2 = dde.icbc.OperatorBC(geom, boundary_third_derivative, boundary_r)"
   ]
  },
  {
   "cell_type": "code",
   "execution_count": null,
   "id": "ee915c72",
   "metadata": {},
   "outputs": [],
   "source": [
    "bc = [bc_dbc, bc_nbc, bc_obc1, bc_obc2]\n",
    "data = dde.data.PDE(geom, pde, bc, 15, 2 , solution=analytical, num_test=100)"
   ]
  },
  {
   "cell_type": "code",
   "execution_count": null,
   "id": "fd899b8b",
   "metadata": {},
   "outputs": [],
   "source": [
    "layer_size = [1] + [30]*3 +[1]\n",
    "activation = \"tanh\"\n",
    "initializer = \"Glorot uniform\"\n",
    "net = dde.nn.FNN(layer_size, activation, initializer)\n",
    "\n",
    "model = dde.Model(data, net)\n",
    "model.compile(\"adam\", lr=0.001, metrics=[\"l2 relative error\"])\n",
    "losshistory, train_state = model.train(iterations=4000)"
   ]
  },
  {
   "cell_type": "code",
   "execution_count": null,
   "id": "00182dff",
   "metadata": {},
   "outputs": [],
   "source": [
    "x_values_pinn = np.linspace(0, L, 100).reshape(-1, 1)\n",
    "x_values_exact = np.linspace(0, L, 20).reshape(-1, 1)\n",
    "\n",
    "y_pred = model.predict(x_values_pinn)\n",
    "y_exact = analytical(x_values_exact)\n",
    "\n",
    "\n",
    "plt.figure(figsize=(10, 6))\n",
    "plt.plot(x_values_exact, y_exact, label=\"Exact Solution\", color=\"blue\")\n",
    "plt.plot(x_values_pinn, y_pred, label=\"PINN Prediction\", color=\"red\", linestyle=\"--\")\n",
    "plt.xlabel(\"x\")\n",
    "plt.ylabel(\"u(x)\")\n",
    "plt.title(\"PINN vs Analytical: Deflection of Cantilever Beam Under Uniform Load\")\n",
    "plt.legend()\n",
    "plt.grid()\n",
    "plt.show"
   ]
  },
  {
   "cell_type": "code",
   "execution_count": null,
   "id": "89d1365d",
   "metadata": {},
   "outputs": [],
   "source": []
  }
 ],
 "metadata": {
  "kernelspec": {
   "display_name": "CMIenv",
   "language": "python",
   "name": "python3"
  },
  "language_info": {
   "codemirror_mode": {
    "name": "ipython",
    "version": 3
   },
   "file_extension": ".py",
   "mimetype": "text/x-python",
   "name": "python",
   "nbconvert_exporter": "python",
   "pygments_lexer": "ipython3",
   "version": "3.10.15"
  }
 },
 "nbformat": 4,
 "nbformat_minor": 5
}
