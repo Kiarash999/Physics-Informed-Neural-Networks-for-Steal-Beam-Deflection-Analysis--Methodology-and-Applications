{
 "cells": [
  {
   "cell_type": "code",
   "execution_count": null,
   "metadata": {},
   "outputs": [],
   "source": [
    "from utils import *\n",
    "import matplotlib.pyplot as plt"
   ]
  },
  {
   "cell_type": "code",
   "execution_count": null,
   "metadata": {},
   "outputs": [],
   "source": [
    "L = 5.0\n",
    "E = 200e8\n",
    "I = 1e-6\n",
    "P = -10000\n",
    "q = P/L\n",
    "num_data_points = 10\n",
    "num_colloc_points = 100\n",
    "num_epochs = 5000\n",
    "optimizer_choice = \"Adam\""
   ]
  },
  {
   "cell_type": "code",
   "execution_count": null,
   "metadata": {},
   "outputs": [],
   "source": [
    "# can 0-1\n",
    "results1 = train_pinn_model(L=L, E=E, I=I, P=P, \n",
    "                           num_data_points=num_data_points, num_colloc_points=num_colloc_points, num_epochs=num_epochs,\n",
    "                           optimizer_choice=optimizer_choice, load_type='point')\n",
    "plot_results(results1)"
   ]
  },
  {
   "cell_type": "code",
   "execution_count": null,
   "metadata": {},
   "outputs": [],
   "source": [
    "# can 1-1\n",
    "results2 = train_pinn_model(L=L, E=E, I=I, P=0, q=q, \n",
    "                           num_data_points=num_data_points, num_colloc_points=num_colloc_points, num_epochs=num_epochs,\n",
    "                           optimizer_choice=optimizer_choice, load_type='uniform')\n",
    "plot_results(results2)"
   ]
  },
  {
   "cell_type": "code",
   "execution_count": null,
   "metadata": {},
   "outputs": [],
   "source": [
    "# fr 0-1-0\n",
    "results3 = train_pinn_model(L=L, E=E, I=I, P=P,\n",
    "                           num_data_points=num_data_points, num_colloc_points=num_colloc_points, num_epochs=num_epochs,\n",
    "                           optimizer_choice=optimizer_choice, load_type='point', beam_type='fully_restrained')\n",
    "plot_results(results3)"
   ]
  },
  {
   "cell_type": "code",
   "execution_count": null,
   "metadata": {},
   "outputs": [],
   "source": [
    "# fr 1-1\n",
    "results4 = train_pinn_model(L=L, E=E, I=I, P=0, q=q,\n",
    "                           num_data_points=num_data_points, num_colloc_points=num_colloc_points, num_epochs=num_epochs,\n",
    "                           optimizer_choice=optimizer_choice, load_type='uniform', beam_type='fully_restrained')\n",
    "plot_results(results4)"
   ]
  },
  {
   "cell_type": "code",
   "execution_count": null,
   "metadata": {},
   "outputs": [],
   "source": [
    "x_test = np.linspace(0, L, 500).reshape(-1, 1)\n",
    "y_cantilever_uniform = cantilever_uniform(x_test, L, E, I, q)\n",
    "y_fully_restrained_uniform = fully_restrained_uniform(x_test, L, E, I, q)\n",
    "y_fully_restrained_point = fully_restrained_point(x_test, L, E, I, P)\n",
    "\n",
    "plt.figure(figsize=(10, 6))\n",
    "# plt.plot(x_test, y_cantilever_uniform * 1000, label=\"Cantilever Uniform Load\")\n",
    "# plt.plot(x_test, results['y_test_pred'] * 1000, label=\"PINN Prediction\")\n",
    "plt.plot(x_test, y_fully_restrained_uniform * 1000, label=\"Fully Restrained Uniform Load\")\n",
    "plt.plot(x_test, y_fully_restrained_point * 1000, label=\"Fully Restrained Mid-Span Point Load\")\n",
    "plt.xlabel(\"Position (m)\")\n",
    "plt.ylabel(\"Deflection (mm)\")\n",
    "plt.title(\"Analytical Solutions for Different Beam Problems\")\n",
    "plt.legend()\n",
    "plt.grid(True)\n",
    "\n",
    "# Annotate maximum deflection for each beam type\n",
    "# for y_sol, name in zip([y_cantilever_uniform, y_fully_restrained_uniform, y_fully_restrained_point],\n",
    "#                        [\"Cantilever Uniform\", \"Fully Restrained Uniform\", \"Fully Restrained Point\"]):\n",
    "#     idx_max = np.argmax(np.abs(y_sol))\n",
    "#     plt.plot(x_test[idx_max], y_sol[idx_max]*1000, 'ko')\n",
    "#     plt.annotate(f\"Max {name}\",\n",
    "#                  xy=(x_test[idx_max], y_sol[idx_max]*1000),\n",
    "#                  xytext=(x_test[idx_max]+0.1, y_sol[idx_max]*1000),\n",
    "#                  arrowprops=dict(facecolor='black', shrink=0.05))\n",
    "plt.show()\n"
   ]
  }
 ],
 "metadata": {
  "kernelspec": {
   "display_name": "CMIenv",
   "language": "python",
   "name": "python3"
  },
  "language_info": {
   "codemirror_mode": {
    "name": "ipython",
    "version": 3
   },
   "file_extension": ".py",
   "mimetype": "text/x-python",
   "name": "python",
   "nbconvert_exporter": "python",
   "pygments_lexer": "ipython3",
   "version": "3.10.15"
  }
 },
 "nbformat": 4,
 "nbformat_minor": 2
}
