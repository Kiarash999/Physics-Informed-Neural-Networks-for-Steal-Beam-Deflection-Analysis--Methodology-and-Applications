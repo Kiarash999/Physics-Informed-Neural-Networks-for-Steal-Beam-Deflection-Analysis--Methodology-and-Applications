{
 "cells": [
  {
   "cell_type": "code",
   "execution_count": 1,
   "id": "abcf9256",
   "metadata": {},
   "outputs": [],
   "source": [
    "import tensorflow as tf\n",
    "import numpy as np\n",
    "import matplotlib.pyplot as plt"
   ]
  },
  {
   "cell_type": "code",
   "execution_count": 2,
   "id": "f7907858",
   "metadata": {},
   "outputs": [],
   "source": [
    "class PINN(tf.keras.Model):\n",
    "    def __init__(self):\n",
    "        super(PINN, self).__init__()\n",
    "        self.dense1 = tf.keras.layers.Dense(32, activation='tanh')\n",
    "        self.dense2 = tf.keras.layers.Dense(32, activation='tanh')\n",
    "        self.dense3 = tf.keras.layers.Dense(1, activation=None)  # خروجی: w(x) یا theta(x)\n",
    "\n",
    "    def call(self, x):\n",
    "        x = self.dense1(x)\n",
    "        x = self.dense2(x)\n",
    "        return self.dense3(x)"
   ]
  },
  {
   "cell_type": "code",
   "execution_count": 3,
   "id": "f13ce7eb",
   "metadata": {},
   "outputs": [],
   "source": [
    "def load_function(x, load_type='uniform', magnitude=1.0, position=0.5, sigma=0.01):\n",
    "    if load_type == 'uniform':\n",
    "        return magnitude * tf.ones_like(x)\n",
    "    elif load_type == 'point':\n",
    "        return magnitude * tf.exp(-((x - position)**2) / (2 * sigma**2)) / (sigma * tf.sqrt(2 * np.pi))"
   ]
  },
  {
   "cell_type": "code",
   "execution_count": 4,
   "id": "88c0e737",
   "metadata": {},
   "outputs": [],
   "source": [
    "def bending_loss(model, x, q_func):\n",
    "    # محاسبه مشتقات PDE\n",
    "    with tf.GradientTape(persistent=True) as tape2:\n",
    "        tape2.watch(x)\n",
    "        with tf.GradientTape() as tape:\n",
    "            tape.watch(x)\n",
    "            w = model(x)\n",
    "        dw_dx = tape.gradient(w, x)\n",
    "        d2w_dx2 = tape2.gradient(dw_dx, x)\n",
    "        d3w_dx3 = tape2.gradient(d2w_dx2, x)\n",
    "        d4w_dx4 = tape2.gradient(d3w_dx3, x)\n",
    "\n",
    "    # معادله PDE: EI * d4w/dx4 = q(x), EI=1\n",
    "    pde_residual = d4w_dx4 - q_func(x)\n",
    "    pde_loss = tf.reduce_mean(tf.square(pde_residual))\n",
    "\n",
    "    # شرایط مرزی برای تیر ساده\n",
    "    x0 = tf.constant([[0.0]], dtype=tf.float32)\n",
    "    x1 = tf.constant([[1.0]], dtype=tf.float32)\n",
    "\n",
    "    with tf.GradientTape() as tape_bc0:\n",
    "        tape_bc0.watch(x0)\n",
    "        with tf.GradientTape() as tape_inner0:\n",
    "            tape_inner0.watch(x0)\n",
    "            w0 = model(x0)\n",
    "        dw_dx0 = tape_inner0.gradient(w0, x0)\n",
    "    d2w_dx2_0 = tape_bc0.gradient(dw_dx0, x0)\n",
    "\n",
    "    with tf.GradientTape() as tape_bc1:\n",
    "        tape_bc1.watch(x1)\n",
    "        with tf.GradientTape() as tape_inner1:\n",
    "            tape_inner1.watch(x1)\n",
    "            w1 = model(x1)\n",
    "        dw_dx1 = tape_inner1.gradient(w1, x1)\n",
    "    d2w_dx2_1 = tape_bc1.gradient(dw_dx1, x1)\n",
    "\n",
    "    bc_loss = tf.square(w0) + tf.square(w1) + tf.square(d2w_dx2_0) + tf.square(d2w_dx2_1)\n",
    "\n",
    "    return pde_loss + 100 * bc_loss"
   ]
  },
  {
   "cell_type": "code",
   "execution_count": 5,
   "id": "b685039e",
   "metadata": {},
   "outputs": [],
   "source": [
    "def torsion_loss(model, x, t_func):\n",
    "    with tf.GradientTape(persistent=True) as tape:\n",
    "        tape.watch(x)\n",
    "        theta = model(x)\n",
    "        dtheta_dx = tape.gradient(theta, x)\n",
    "        d2theta_dx2 = tape.gradient(dtheta_dx, x)\n",
    "\n",
    "    # معادله PDE: GJ * d2theta/dx2 = -T(x), GJ=1\n",
    "    pde_residual = d2theta_dx2 + t_func(x)\n",
    "\n",
    "    # شرایط مرزی برای تیر گیردار\n",
    "    x0 = tf.constant([[0.0]])\n",
    "    x1 = tf.constant([[1.0]])\n",
    "    theta0 = model(x0)\n",
    "    theta1 = model(x1)\n",
    "\n",
    "    bc_loss = tf.square(theta0) + tf.square(theta1)\n",
    "    pde_loss = tf.reduce_mean(tf.square(pde_residual))\n",
    "    return pde_loss + 100 * bc_loss"
   ]
  },
  {
   "cell_type": "code",
   "execution_count": 6,
   "id": "c3d5300f",
   "metadata": {},
   "outputs": [],
   "source": [
    "def train_model(model, x_train, loss_fn, epochs=5000):\n",
    "    optimizer = tf.keras.optimizers.Adam(learning_rate=0.001)\n",
    "    for epoch in range(epochs):\n",
    "        with tf.GradientTape() as tape:\n",
    "            loss = loss_fn(model, x_train)\n",
    "        grads = tape.gradient(loss, model.trainable_variables)\n",
    "        optimizer.apply_gradients(zip(grads, model.trainable_variables))\n",
    "        if epoch % 1000 == 0:\n",
    "            print(f\"Epoch {epoch}, Loss: {loss.numpy()}\")\n",
    "    return model"
   ]
  },
  {
   "cell_type": "code",
   "execution_count": 7,
   "id": "8f83b6e4",
   "metadata": {},
   "outputs": [],
   "source": [
    "def fem_bending(L=1.0, n_elements=100, q=1.0, load_type='uniform'):\n",
    "    dx = L / n_elements\n",
    "    x = np.linspace(0, L, n_elements + 1)\n",
    "    K = np.zeros((n_elements + 1, n_elements + 1))  # ماتریس سختی\n",
    "    F = np.zeros(n_elements + 1)  # بردار نیرو\n",
    "\n",
    "    # ماتریس سختی المان (EI=1)\n",
    "    k_elem = (1 / dx**3) * np.array([[12, 6*dx, -12, 6*dx],\n",
    "                                     [6*dx, 4*dx**2, -6*dx, 2*dx**2],\n",
    "                                     [-12, -6*dx, 12, -6*dx],\n",
    "                                     [6*dx, 2*dx**2, -6*dx, 4*dx**2]])\n",
    "\n",
    "    # اسمبل کردن ماتریس سختی و نیرو\n",
    "    for i in range(n_elements):\n",
    "        K[i:i+2, i:i+2] += k_elem[0:2, 0:2] + k_elem[2:4, 2:4]\n",
    "        F[i] += q * dx / 2 if load_type == 'uniform' else 0\n",
    "        if load_type == 'point' and abs(x[i] - 0.5) < dx:\n",
    "            F[i] += q\n",
    "\n",
    "    # اعمال شرایط مرزی\n",
    "    K[0, :] = 0; K[:, 0] = 0; K[0, 0] = 1; F[0] = 0\n",
    "    K[-1, :] = 0; K[:, -1] = 0; K[-1, -1] = 1; F[-1] = 0\n",
    "\n",
    "    w = np.linalg.solve(K, F)\n",
    "    return x, w\n",
    "\n",
    "def fem_torsion(L=1.0, n_elements=100, T=1.0, load_type='uniform'):\n",
    "    dx = L / n_elements\n",
    "    x = np.linspace(0, L, n_elements + 1)\n",
    "    K = np.zeros((n_elements + 1, n_elements + 1))\n",
    "    F = np.zeros(n_elements + 1)\n",
    "\n",
    "    k_elem = (1 / dx) * np.array([[1, -1], [-1, 1]])  # GJ=1\n",
    "    for i in range(n_elements):\n",
    "        K[i:i+2, i:i+2] += k_elem\n",
    "        F[i] += T * dx / 2 if load_type == 'uniform' else 0\n",
    "        if load_type == 'point' and abs(x[i] - 0.5) < dx:\n",
    "            F[i] += T\n",
    "\n",
    "    K[0, :] = 0; K[:, 0] = 0; K[0, 0] = 1; F[0] = 0\n",
    "    K[-1, :] = 0; K[:, -1] = 0; K[-1, -1] = 1; F[-1] = 0\n",
    "\n",
    "    theta = np.linalg.solve(K, F)\n",
    "    return x, theta"
   ]
  },
  {
   "cell_type": "code",
   "execution_count": 8,
   "id": "958cdef4",
   "metadata": {},
   "outputs": [],
   "source": [
    "# نقاط آموزشی برای PINN\n",
    "N = 100\n",
    "x_train = tf.random.uniform((N, 1), minval=0, maxval=1)\n",
    "x_test = np.linspace(0, 1, 100).reshape(-1, 1)"
   ]
  },
  {
   "cell_type": "code",
   "execution_count": null,
   "id": "af844998",
   "metadata": {},
   "outputs": [],
   "source": [
    "# 1. خمش با بار گسترده\n",
    "bending_model_uniform = PINN()\n",
    "q_uniform = lambda x: load_function(x, 'uniform', 1.0)\n",
    "bending_model_uniform = train_model(bending_model_uniform, x_train, \n",
    "                                    lambda m, x: bending_loss(m, x, q_uniform))\n",
    "w_pinn_uniform = bending_model_uniform.predict(x_test)\n",
    "x_fem, w_fem_uniform = fem_bending(load_type='uniform', q=1.0)\n",
    "\n",
    "plt.figure()\n",
    "plt.plot(x_test, w_pinn_uniform, label='PINN - Uniform Load')\n",
    "plt.plot(x_fem, w_fem_uniform, '--', label='FEM - Uniform Load')\n",
    "plt.legend()\n",
    "plt.title(\"Bending: Uniform Load\")\n",
    "plt.show()"
   ]
  },
  {
   "cell_type": "code",
   "execution_count": null,
   "id": "a879285b",
   "metadata": {},
   "outputs": [],
   "source": [
    "# 2. خمش با بار متمرکز\n",
    "bending_model_point = PINN()\n",
    "q_point = lambda x: load_function(x, 'point', 1.0, position=0.5)\n",
    "bending_model_point = train_model(bending_model_point, x_train, \n",
    "                                  lambda m, x: bending_loss(m, x, q_point))\n",
    "w_pinn_point = bending_model_point.predict(x_test)\n",
    "x_fem, w_fem_point = fem_bending(load_type='point', q=1.0)\n",
    "\n",
    "plt.figure()\n",
    "plt.plot(x_test, w_pinn_point, label='PINN - Point Load')\n",
    "plt.plot(x_fem, w_fem_point, '--', label='FEM - Point Load')\n",
    "plt.legend()\n",
    "plt.title(\"Bending: Point Load\")\n",
    "plt.show()"
   ]
  },
  {
   "cell_type": "code",
   "execution_count": 9,
   "id": "7ba36592",
   "metadata": {},
   "outputs": [
    {
     "name": "stdout",
     "output_type": "stream",
     "text": [
      "WARNING:tensorflow:Calling GradientTape.gradient on a persistent tape inside its context is significantly less efficient than calling it outside the context (it causes the gradient ops to be recorded on the tape, leading to increased CPU and memory usage). Only call GradientTape.gradient inside the context if you actually want to trace the gradient in order to compute higher order derivatives.\n",
      "WARNING:tensorflow:Calling GradientTape.gradient on a persistent tape inside its context is significantly less efficient than calling it outside the context (it causes the gradient ops to be recorded on the tape, leading to increased CPU and memory usage). Only call GradientTape.gradient inside the context if you actually want to trace the gradient in order to compute higher order derivatives.\n",
      "Epoch 0, Loss: [[8.332522]]\n",
      "Epoch 1000, Loss: [[0.05859687]]\n",
      "Epoch 2000, Loss: [[0.00339288]]\n",
      "Epoch 3000, Loss: [[0.00092002]]\n",
      "Epoch 4000, Loss: [[0.00038145]]\n",
      "4/4 [==============================] - 0s 333us/step\n"
     ]
    },
    {
     "data": {
      "image/png": "[encoded data removed]",
      "text/plain": [
       "<Figure size 640x480 with 1 Axes>"
      ]
     },
     "metadata": {},
     "output_type": "display_data"
    }
   ],
   "source": [
    "# 3. پیچش با بار گسترده\n",
    "torsion_model_uniform = PINN()\n",
    "t_uniform = lambda x: load_function(x, 'uniform', 1.0)\n",
    "torsion_model_uniform = train_model(torsion_model_uniform, x_train, \n",
    "                                    lambda m, x: torsion_loss(m, x, t_uniform))\n",
    "theta_pinn_uniform = torsion_model_uniform.predict(x_test)\n",
    "x_fem, theta_fem_uniform = fem_torsion(load_type='uniform', T=1.0)\n",
    "\n",
    "plt.figure()\n",
    "plt.plot(x_test, theta_pinn_uniform, label='PINN - Uniform Torsion')\n",
    "plt.plot(x_fem, theta_fem_uniform, '--', label='FEM - Uniform Torsion')\n",
    "plt.legend()\n",
    "plt.title(\"Torsion: Uniform Load\")\n",
    "plt.show()"
   ]
  },
  {
   "cell_type": "code",
   "execution_count": null,
   "id": "ee73999a",
   "metadata": {},
   "outputs": [],
   "source": [
    "# 4. پیچش با بار متمرکز\n",
    "torsion_model_point = PINN()\n",
    "t_point = lambda x: load_function(x, 'point', 1.0, position=0.5)\n",
    "torsion_model_point = train_model(torsion_model_point, x_train, \n",
    "                                  lambda m, x: torsion_loss(m, x, t_point))\n",
    "theta_pinn_point = torsion_model_point.predict(x_test)\n",
    "x_fem, theta_fem_point = fem_torsion(load_type='point', T=1.0)\n",
    "\n",
    "plt.figure()\n",
    "plt.plot(x_test, theta_pinn_point, label='PINN - Point Torsion')\n",
    "plt.plot(x_fem, theta_fem_point, '--', label='FEM - Point Torsion')\n",
    "plt.legend()\n",
    "plt.title(\"Torsion: Point Load\")\n",
    "plt.show()"
   ]
  }
 ],
 "metadata": {
  "kernelspec": {
   "display_name": "tf",
   "language": "python",
   "name": "python3"
  },
  "language_info": {
   "codemirror_mode": {
    "name": "ipython",
    "version": 3
   },
   "file_extension": ".py",
   "mimetype": "text/x-python",
   "name": "python",
   "nbconvert_exporter": "python",
   "pygments_lexer": "ipython3",
   "version": "3.9.20"
  }
 },
 "nbformat": 4,
 "nbformat_minor": 5
}
