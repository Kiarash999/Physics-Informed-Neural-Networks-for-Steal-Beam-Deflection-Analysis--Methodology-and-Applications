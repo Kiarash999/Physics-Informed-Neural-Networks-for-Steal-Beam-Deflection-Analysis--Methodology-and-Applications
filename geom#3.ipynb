{
 "cells": [
  {
   "cell_type": "markdown",
   "id": "d892a92f",
   "metadata": {},
   "source": [
    "# Geom #3"
   ]
  },
  {
   "cell_type": "code",
   "execution_count": null,
   "id": "90507724",
   "metadata": {},
   "outputs": [],
   "source": [
    "import deepxde as dde\n",
    "import numpy as np\n",
    "import matplotlib.pyplot as plt\n",
    "from deepxde.backend import tf"
   ]
  },
  {
   "cell_type": "code",
   "execution_count": null,
   "id": "509afb1c",
   "metadata": {},
   "outputs": [],
   "source": [
    "L = 1;   E = 200e9;   I = 1e-6;   P = -10000.0;   EI=E*I\n",
    "sigma =0.01\n",
    "geom = dde.geometry.Interval(0, L)"
   ]
  },
  {
   "cell_type": "code",
   "execution_count": null,
   "id": "fd09b7a2",
   "metadata": {},
   "outputs": [],
   "source": [
    "def pde(x, y):\n",
    "    d2y = dde.grad.hessian(y, x, i=0)\n",
    "    d4y = dde.grad.hessian(d2y, x, i=0)\n",
    "    return EI * d4y - P / (sigma * np.sqrt(2 * np.pi)) * tf.exp(-((x - L / 2) ** 2) / (2 * sigma ** 2))\n",
    "\n",
    "\n",
    "def analytical_solution(x):\n",
    "    y = np.zeros_like(x)\n",
    "    half_L = L / 2\n",
    "    mask1 = x <= half_L\n",
    "    mask2 = x > half_L\n",
    "\n",
    "    y[mask1] = (P / (48 * EI)) * (3 * L * x[mask1]**2 - 4 * x[mask1]**3)\n",
    "    y[mask2] = (P / (48 * EI)) * (3 * L * (L - x[mask2])**2 - 4 * (L - x[mask2])**3)\n",
    "    return y"
   ]
  },
  {
   "cell_type": "code",
   "execution_count": null,
   "id": "46d11ae2",
   "metadata": {},
   "outputs": [],
   "source": [
    "def boundary_l(x, on_boundary):\n",
    "    return on_boundary and dde.utils.isclose(x[0], 0)\n",
    "\n",
    "def boundary_r(x, on_boundary):\n",
    "    return on_boundary and dde.utils.isclose(x[0], L)\n",
    "\n",
    "bcD_l = dde.icbc.DirichletBC(geom, lambda x: 0, boundary_l)\n",
    "bcN_l = dde.icbc.NeumannBC(geom, lambda x: 0, boundary_l)\n",
    "\n",
    "bcD_r = dde.icbc.DirichletBC(geom, lambda x: 0, boundary_r)\n",
    "bcN_r = dde.icbc.NeumannBC(geom, lambda x: 0, boundary_r)\n",
    "\n",
    "bcs = [bcN_l, bcN_r]"
   ]
  },
  {
   "cell_type": "code",
   "execution_count": null,
   "id": "0ffdf482",
   "metadata": {},
   "outputs": [],
   "source": [
    "data = dde.data.PDE(geom, pde, bcs, num_domain=50, num_boundary=20, solution=analytical_solution, num_test=100)"
   ]
  },
  {
   "cell_type": "code",
   "execution_count": null,
   "id": "f6ab03eb",
   "metadata": {},
   "outputs": [],
   "source": [
    "net = dde.maps.FNN([1] + [50] * 3 + [1], \"swish\", \"Glorot normal\")\n",
    "def output_transform(x, y):\n",
    "    return x * (1 - x) * y  # Dirichlet در 0 و L enforced\n",
    "\n",
    "net.apply_output_transform(output_transform)\n",
    "\n",
    "LW=[9e-14, 10, 10]\n",
    "\n",
    "model = dde.Model(data, net)\n",
    "class CustomLossWeightCallback(dde.callbacks.Callback):\n",
    "    def on_epoch_end(self):\n",
    "        epoch = self.model.train_state.epoch\n",
    "        decay = np.exp(-0.0001 * epoch)\n",
    "        self.model.loss_weights[1] = 10 * decay  # bcD_r\n",
    "        self.model.loss_weights[2] = 10 * decay  # bcN_r\n",
    "\n",
    "callback = CustomLossWeightCallback()\n",
    "\n",
    "model.compile('adam', lr=1e-5, metrics=['l2 relative error'], loss_weights=LW)\n",
    "history = model.train(iterations=200000, callbacks=[callback])\n",
    "model.compile('L-BFGS', loss_weights=LW)\n",
    "history = model.train()"
   ]
  },
  {
   "cell_type": "code",
   "execution_count": null,
   "id": "f1700ef4",
   "metadata": {},
   "outputs": [],
   "source": [
    "X = np.linspace(0, L, 1000).reshape(-1, 1)\n",
    "y_pred = model.predict(X)\n",
    "\n",
    "y_true = analytical_solution(X.flatten())\n",
    "l2_error = np.linalg.norm(y_pred.flatten() - y_true, 2) / np.linalg.norm(y_true, 2)\n",
    "\n",
    "plt.figure(figsize=(8, 5))\n",
    "plt.plot(X, y_pred, label=\"PINN prediction\")\n",
    "plt.plot(X, y_true, \"--\", label=\"Analytical solution\")\n",
    "plt.xlabel(\"x\")\n",
    "plt.ylabel(\"Deflection w(x)\")\n",
    "plt.title(f\"Fully Restrained Beam Under Mid-Span Point Load ,L2 Relative Error: {l2_error:.2e}\" )\n",
    "plt.legend()\n",
    "plt.grid(True)\n",
    "plt.tight_layout()\n",
    "plt.show()\n"
   ]
  },
  {
   "cell_type": "code",
   "execution_count": null,
   "id": "5365e2a4",
   "metadata": {},
   "outputs": [],
   "source": []
  },
  {
   "cell_type": "code",
   "execution_count": null,
   "id": "6fa4bc9c",
   "metadata": {},
   "outputs": [],
   "source": []
  }
 ],
 "metadata": {
  "kernelspec": {
   "display_name": "CMIenv",
   "language": "python",
   "name": "python3"
  },
  "language_info": {
   "codemirror_mode": {
    "name": "ipython",
    "version": 3
   },
   "file_extension": ".py",
   "mimetype": "text/x-python",
   "name": "python",
   "nbconvert_exporter": "python",
   "pygments_lexer": "ipython3",
   "version": "3.10.15"
  }
 },
 "nbformat": 4,
 "nbformat_minor": 5
}
